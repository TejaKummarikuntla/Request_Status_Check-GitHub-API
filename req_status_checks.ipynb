{
 "cells": [
  {
   "cell_type": "code",
   "execution_count": 121,
   "metadata": {},
   "outputs": [],
   "source": [
    "import os\n",
    "import requests\n",
    "import logging\n",
    "from io import StringIO\n",
    "import urllib.request \n",
    "import requests"
   ]
  },
  {
   "cell_type": "code",
   "execution_count": 2,
   "metadata": {},
   "outputs": [],
   "source": [
    "def shortenMiddle(s, n):\n",
    "    sLen = len(s)\n",
    "    if sLen > n:\n",
    "        halfN = int(n / 2)\n",
    "        return s[:halfN] + '...' + s[-halfN:]\n",
    "    return s"
   ]
  },
  {
   "cell_type": "code",
   "execution_count": 3,
   "metadata": {},
   "outputs": [],
   "source": [
    "logger = logging.getLogger('req_stat_chk')\n",
    "logger.setLevel(logging.DEBUG)\n",
    "logger.handlers = []\n",
    "\n",
    "\n",
    "sh = logging.StreamHandler()\n",
    "sh.setLevel(logging.DEBUG)\n",
    "logger.addHandler(sh)"
   ]
  },
  {
   "cell_type": "code",
   "execution_count": 18,
   "metadata": {},
   "outputs": [
    {
     "name": "stderr",
     "output_type": "stream",
     "text": [
      "GITHUB_API_TOKEN='608...511'\n",
      "REPO_NAMES_TXT_URL='https://gist.githubusercontent.com/TejaKummarikuntla/00fcd1a8c9f7bba8cc13438d0fe39706/raw/faa2bb5fb6d111877fb6e53b3014d7060ff61d81/repos.txt'\n"
     ]
    }
   ],
   "source": [
    "ghRootEndpoint = 'https://api.github.com'\n",
    "\n",
    "ghAPIToken = os.environ['GITHUB_API_TOKEN']\n",
    "logger.info(\"GITHUB_API_TOKEN='{}'\".format(shortenMiddle(ghAPIToken, 6)))\n",
    "\n",
    "repoNamesUrl = 'https://gist.githubusercontent.com/TejaKummarikuntla/00fcd1a8c9f7bba8cc13438d0fe39706/raw/faa2bb5fb6d111877fb6e53b3014d7060ff61d81/repos.txt'\n",
    "logger.info(\"REPO_NAMES_TXT_URL='{}'\".format(repoNamesUrl))\n"
   ]
  },
  {
   "cell_type": "code",
   "execution_count": 130,
   "metadata": {},
   "outputs": [
    {
     "name": "stderr",
     "output_type": "stream",
     "text": [
      "['indus', 'hell', 'issuesss']\n"
     ]
    }
   ],
   "source": [
    "response = requests.get(repoNamesUrl).text\n",
    "repositories = response.split('\\n')\n",
    "logger.info(repositories)"
   ]
  },
  {
   "cell_type": "code",
   "execution_count": 132,
   "metadata": {},
   "outputs": [
    {
     "name": "stderr",
     "output_type": "stream",
     "text": [
      "{'message': 'Branch not protected', 'documentation_url': 'https://developer.github.com/v3/repos/branches/#get-required-status-checks-of-protected-branch'}\n",
      "{'message': 'Branch not protected', 'documentation_url': 'https://developer.github.com/v3/repos/branches/#get-required-status-checks-of-protected-branch'}\n",
      "{'message': 'Branch not protected', 'documentation_url': 'https://developer.github.com/v3/repos/branches/#get-required-status-checks-of-protected-branch'}\n"
     ]
    }
   ],
   "source": [
    "for repo in repositories: \n",
    "    getStatusCheckURL = \"/repos/backdoorHall/{repo}/branches/master/protection/required_status_checks\".format(repo = repo)\n",
    "    ghAPIresponse = requests.get(ghRootEndpoint+getStatusCheckURL,\\\n",
    "                          headers={'Authorization':'token ' + ghAPIToken}).json()\n",
    "    \n",
    "    \n",
    "    logger.info(ghAPIresponse)\n",
    "    \n",
    "    "
   ]
  },
  {
   "cell_type": "code",
   "execution_count": 93,
   "metadata": {},
   "outputs": [
    {
     "data": {
      "text/plain": [
       "{'message': 'Branch not protected',\n",
       " 'documentation_url': 'https://developer.github.com/v3/repos/branches/#get-required-status-checks-of-protected-branch'}"
      ]
     },
     "execution_count": 93,
     "metadata": {},
     "output_type": "execute_result"
    }
   ],
   "source": [
    "req_stat_check = requests.get(ghRootEndpoint+'/repos/backdoorHall/indus/branches/master/protection/required_status_checks', \\\n",
    "                          headers={'Authorization':'token ' + ghAPIToken}).json()\n",
    "\n",
    "req_stat_check\n",
    "\n"
   ]
  },
  {
   "cell_type": "code",
   "execution_count": 133,
   "metadata": {},
   "outputs": [
    {
     "data": {
      "text/plain": [
       "'/repos/backdoorHall/issuesss/branches/master/protection/required_status_checks'"
      ]
     },
     "execution_count": 133,
     "metadata": {},
     "output_type": "execute_result"
    }
   ],
   "source": [
    "urlBroken = \"/repos/backdoorHall/%s/branches/master/protection/required_status_checks\"\n",
    "req_stat_check = requests.get(ghRootEndpoint+urlBroken %repo, \\\n",
    "                          headers={'Authorization':'token ' + ghAPIToken}).json()\n",
    "req_stat_check\n",
    "urlBroken %repo"
   ]
  },
  {
   "cell_type": "code",
   "execution_count": 134,
   "metadata": {},
   "outputs": [
    {
     "data": {
      "text/plain": [
       "'/Users/kummarikuntlateja'"
      ]
     },
     "execution_count": 134,
     "metadata": {},
     "output_type": "execute_result"
    }
   ],
   "source": [
    "pwd"
   ]
  },
  {
   "cell_type": "code",
   "execution_count": null,
   "metadata": {},
   "outputs": [],
   "source": []
  }
 ],
 "metadata": {
  "kernelspec": {
   "display_name": "Python 3",
   "language": "python",
   "name": "python3"
  },
  "language_info": {
   "codemirror_mode": {
    "name": "ipython",
    "version": 3
   },
   "file_extension": ".py",
   "mimetype": "text/x-python",
   "name": "python",
   "nbconvert_exporter": "python",
   "pygments_lexer": "ipython3",
   "version": "3.7.0"
  }
 },
 "nbformat": 4,
 "nbformat_minor": 2
}
